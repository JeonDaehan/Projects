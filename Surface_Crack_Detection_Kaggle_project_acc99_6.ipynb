{
  "nbformat": 4,
  "nbformat_minor": 0,
  "metadata": {
    "colab": {
      "provenance": [],
      "authorship_tag": "ABX9TyN+oaRrB9zmCEZ2HbJR8ISC",
      "include_colab_link": true
    },
    "kernelspec": {
      "name": "python3",
      "display_name": "Python 3"
    },
    "language_info": {
      "name": "python"
    },
    "accelerator": "GPU",
    "gpuClass": "standard"
  },
  "cells": [
    {
      "cell_type": "markdown",
      "metadata": {
        "id": "view-in-github",
        "colab_type": "text"
      },
      "source": [
        "<a href=\"https://colab.research.google.com/github/JeonDaehan/Surface_Crack_Detection/blob/master/Surface_Crack_Detection_Kaggle_project_acc99_6.ipynb\" target=\"_parent\"><img src=\"https://colab.research.google.com/assets/colab-badge.svg\" alt=\"Open In Colab\"/></a>"
      ]
    },
    {
      "cell_type": "code",
      "execution_count": null,
      "metadata": {
        "id": "TR1GpfY9ZqH0"
      },
      "outputs": [],
      "source": [
        "import numpy as np\n",
        "import pandas as pd\n",
        "import matplotlib.pyplot as plt\n",
        "\n",
        "import tensorflow as tf\n",
        "from tensorflow.keras.models import Sequential\n",
        "from tensorflow.keras.layers import Dense, Flatten, Input, concatenate, Dropout\n",
        "from tensorflow.keras.layers import Conv2D, MaxPool2D\n",
        "from tensorflow.keras.optimizers import SGD, Adam, RMSprop\n",
        "from tensorflow.keras.utils import to_categorical\n",
        "\n",
        "from datetime import datetime\n",
        "import os\n",
        "import glob\n",
        "import shutil\n",
        "import random\n",
        "import cv2\n",
        "from google.colab import drive\n",
        "import zipfile"
      ]
    },
    {
      "cell_type": "code",
      "source": [
        "# 구글 드라이브와 연동하기\n",
        "drive.mount(\"/content/gdrive/\")"
      ],
      "metadata": {
        "colab": {
          "base_uri": "https://localhost:8080/"
        },
        "id": "4HfWum-0ZrJd",
        "outputId": "d176dc9b-424d-4b50-8f14-2064af0b07c6"
      },
      "execution_count": null,
      "outputs": [
        {
          "output_type": "stream",
          "name": "stdout",
          "text": [
            "Mounted at /content/gdrive/\n"
          ]
        }
      ]
    },
    {
      "cell_type": "code",
      "source": [
        "# 짚파일을 맨 첫번째 페이지에 노출되게 하기.\n",
        "dataset_path = \"/content/gdrive/MyDrive/Colab Notebooks\"\n",
        "shutil.copy(os.path.join(dataset_path, \"surface_crack.zip\"), \"/content\")"
      ],
      "metadata": {
        "colab": {
          "base_uri": "https://localhost:8080/",
          "height": 36
        },
        "id": "LeCK5eTWAg_D",
        "outputId": "2d406223-a716-4ba7-dd91-a4cd34a86f17"
      },
      "execution_count": null,
      "outputs": [
        {
          "output_type": "execute_result",
          "data": {
            "text/plain": [
              "'/content/surface_crack.zip'"
            ],
            "application/vnd.google.colaboratory.intrinsic+json": {
              "type": "string"
            }
          },
          "metadata": {},
          "execution_count": 3
        }
      ]
    },
    {
      "cell_type": "code",
      "source": [
        "# 관리할 폴더 미리 지정해주기(만들어주는게 아님)\n",
        "\n",
        "DATA_ROOT_DIR = os.path.join(\"/content\", \"surface_crack\")\n",
        "TRAIN_DATA_ROOT_DIR = os.path.join(DATA_ROOT_DIR, \"train\") # train이라는 폴더를 만들어 주겠다.\n",
        "TEST_DATA_ROOT_DIR = os.path.join(DATA_ROOT_DIR, \"test\")\n",
        "# label_name_list = 폴더이름이자 정답이름"
      ],
      "metadata": {
        "id": "GsCor1GEaQGk"
      },
      "execution_count": null,
      "outputs": []
    },
    {
      "cell_type": "code",
      "source": [
        "# 압축 풀어주기 (풀면 파일이 만들어짐)\n",
        "with zipfile.ZipFile(os.path.join(\"/content\", \"surface_crack.zip\"), \"r\") as target_file:\n",
        "  target_file.extractall(DATA_ROOT_DIR)\n",
        "    "
      ],
      "metadata": {
        "id": "-Y_YKf98dmVW"
      },
      "execution_count": null,
      "outputs": []
    },
    {
      "cell_type": "code",
      "source": [
        "# 풀어놓은 전체 데이터를 TRAIN파일에 옮겨주자\n",
        "\n",
        "shutil.copytree(DATA_ROOT_DIR, TRAIN_DATA_ROOT_DIR) # COPYTREE는 기존에 똑같은 이름의 폴더가 있으면 에러가 생김."
      ],
      "metadata": {
        "id": "YiqihjcHH8tJ",
        "colab": {
          "base_uri": "https://localhost:8080/",
          "height": 36
        },
        "outputId": "14af457c-fad8-4f0e-b8a1-2164d9077b2c"
      },
      "execution_count": null,
      "outputs": [
        {
          "output_type": "execute_result",
          "data": {
            "text/plain": [
              "'/content/surface_crack/train'"
            ],
            "application/vnd.google.colaboratory.intrinsic+json": {
              "type": "string"
            }
          },
          "metadata": {},
          "execution_count": 6
        }
      ]
    },
    {
      "cell_type": "code",
      "source": [
        "# TEST폴더 만들어주자 / 기존에 같은 명의의 파일이 있으면 에러생김\n",
        "os.mkdir(TEST_DATA_ROOT_DIR)\n",
        "os.mkdir(os.path.join(TEST_DATA_ROOT_DIR, \"Positive\"))\n",
        "os.mkdir(os.path.join(TEST_DATA_ROOT_DIR, \"Negative\"))"
      ],
      "metadata": {
        "id": "xvwAVUabH8es"
      },
      "execution_count": null,
      "outputs": []
    },
    {
      "cell_type": "code",
      "source": [
        "# Train에 있는 파일들 test에 20프로 옮겨주기, randomshuffle\n",
        "label_name_list = os.listdir(TRAIN_DATA_ROOT_DIR)\n",
        "MOVE_RATIO = 0.2\n",
        "\n",
        "for label_name in label_name_list:\n",
        "  src_dir_path = os.path.join(TRAIN_DATA_ROOT_DIR, label_name)\n",
        "  dst_dir_path = os.path.join(TEST_DATA_ROOT_DIR, label_name)\n",
        "\n",
        "\n",
        "  # train에 있는 데이터 random하게 섞어주기\n",
        "  train_data_file_list = os.listdir(src_dir_path)\n",
        "  random.shuffle(train_data_file_list)\n",
        "\n",
        "  split_num = int(MOVE_RATIO * len(train_data_file_list)) # 개수를 정수로 나눠줘야 하기때문에 int\n",
        "  test_data_file_list = train_data_file_list[0:split_num]\n",
        "\n",
        "  # 실제 파일 이동\n",
        "  for f in test_data_file_list:\n",
        "    shutil.move(os.path.join(src_dir_path, f), os.path.join(dst_dir_path, f))"
      ],
      "metadata": {
        "id": "DHFK1L86Iiib"
      },
      "execution_count": null,
      "outputs": []
    },
    {
      "cell_type": "code",
      "source": [
        "# 실제 이미지를 메모리에 올려놓자\n",
        "\n",
        "train_data_list = []\n",
        "train_label_list = []\n",
        "\n",
        "class_dict = {\"Negative\":0, \"Positive\":1}\n",
        "\n",
        "for label_name in label_name_list:\n",
        "  file_path = os.path.join(TRAIN_DATA_ROOT_DIR, label_name)\n",
        "  img_file_list = glob.glob(file_path + \"/*.jpg\")\n",
        "\n",
        "\n",
        "# 이미지, 색, 순서(bgr->rgb)\n",
        "  for img in img_file_list:\n",
        "    src_img = cv2.imread(img,cv2.IMREAD_COLOR)\n",
        "    src_img = cv2.resize(src_img, dsize=(64,64))\n",
        "    src_img = cv2.cvtColor(src_img, cv2.COLOR_BGR2RGB)\n",
        "\n",
        "    train_data_list.append(src_img)\n",
        "    train_label_list.append(class_dict[label_name])"
      ],
      "metadata": {
        "id": "NenoaE0cIiZ6"
      },
      "execution_count": null,
      "outputs": []
    },
    {
      "cell_type": "code",
      "source": [
        "X_train = np.array(train_data_list).astype(\"float32\")\n",
        "y_train = np.array(train_label_list).astype(\"float32\")"
      ],
      "metadata": {
        "id": "NWf8b93dIiT-"
      },
      "execution_count": null,
      "outputs": []
    },
    {
      "cell_type": "code",
      "source": [
        "print(X_train.shape, y_train.shape)"
      ],
      "metadata": {
        "colab": {
          "base_uri": "https://localhost:8080/"
        },
        "id": "nU_aj21lQy0D",
        "outputId": "57bd4dd6-63e9-4f4b-b17a-72acfef393c4"
      },
      "execution_count": null,
      "outputs": [
        {
          "output_type": "stream",
          "name": "stdout",
          "text": [
            "(32000, 64, 64, 3) (32000,)\n"
          ]
        }
      ]
    },
    {
      "cell_type": "code",
      "source": [
        "# 실제 이미지를 메모리에 올려놓자 test\n",
        "\n",
        "test_data_list = []\n",
        "test_label_list = []\n",
        "\n",
        "for label_name in label_name_list:\n",
        "  file_path = os.path.join(TEST_DATA_ROOT_DIR, label_name)\n",
        "  img_file_list = glob.glob(file_path + \"/*.jpg\")\n",
        "\n",
        "\n",
        "# 이미지, 색, 순서(bgr->rgb)\n",
        "  for img in img_file_list:\n",
        "    src_img = cv2.imread(img,cv2.IMREAD_COLOR)\n",
        "    src_img = cv2.resize(src_img, dsize=(64,64))\n",
        "    src_img = cv2.cvtColor(src_img, cv2.COLOR_BGR2RGB)\n",
        "\n",
        "    test_data_list.append(src_img)\n",
        "    test_label_list.append(class_dict[label_name])"
      ],
      "metadata": {
        "id": "ig3jRq4VRn3m"
      },
      "execution_count": null,
      "outputs": []
    },
    {
      "cell_type": "code",
      "source": [
        "X_test = np.array(test_data_list).astype(\"float32\")\n",
        "y_test = np.array(test_label_list).astype(\"float32\")"
      ],
      "metadata": {
        "id": "ghotdByxR4Zb"
      },
      "execution_count": null,
      "outputs": []
    },
    {
      "cell_type": "code",
      "source": [
        "print(X_test.shape, y_test.shape)"
      ],
      "metadata": {
        "colab": {
          "base_uri": "https://localhost:8080/"
        },
        "id": "KbMYFooqSEIP",
        "outputId": "d2575a67-8463-401e-92f8-7da6758b902f"
      },
      "execution_count": null,
      "outputs": [
        {
          "output_type": "stream",
          "name": "stdout",
          "text": [
            "(8000, 64, 64, 3) (8000,)\n"
          ]
        }
      ]
    },
    {
      "cell_type": "code",
      "source": [
        "# 정규화\n",
        "\n",
        "X_train = X_train / 255.0\n",
        "X_test = X_test / 255.0"
      ],
      "metadata": {
        "id": "cgLu0GiYSYNx"
      },
      "execution_count": null,
      "outputs": []
    },
    {
      "cell_type": "code",
      "source": [
        "# 모델 설계 cmd cmd fdd (sigmoid, binary)\n",
        "model = Sequential()\n",
        "\n",
        "model.add(Conv2D(kernel_size=3, filters=32, activation=\"relu\", \n",
        "                 padding=\"SAME\", input_shape=(64,64,3)))\n",
        "model.add(MaxPool2D(pool_size=(2,2)))\n",
        "model.add(Dropout(0.25))\n",
        "\n",
        "model.add(Conv2D(kernel_size=3, filters=64, activation=\"relu\", \n",
        "                 padding=\"SAME\",))\n",
        "model.add(MaxPool2D(pool_size=(2,2)))\n",
        "model.add(Dropout(0.25))\n",
        " \n",
        "model.add(Flatten())\n",
        "\n",
        "model.add(Dense(128, activation='relu'))\n",
        "model.add(Dropout(0.5))\n",
        "model.add(Dense(1, activation='sigmoid'))\n",
        "\n",
        "# 출력 개수가 1인 이유는 이중분류는 1로만 한다.\n",
        "# 다중 출력이라면 원핫코딩의 개수만큼 적어준다.\n",
        "\n",
        "\n",
        "model.compile(loss='binary_crossentropy', optimizer=Adam(learning_rate=0.00001), metrics=[\"accuracy\"])\n",
        "model.summary()"
      ],
      "metadata": {
        "colab": {
          "base_uri": "https://localhost:8080/"
        },
        "id": "F2fB6MJfSiJk",
        "outputId": "3b87c11d-4223-417c-b5ea-2773864dfc93"
      },
      "execution_count": null,
      "outputs": [
        {
          "output_type": "stream",
          "name": "stdout",
          "text": [
            "Model: \"sequential_4\"\n",
            "_________________________________________________________________\n",
            " Layer (type)                Output Shape              Param #   \n",
            "=================================================================\n",
            " conv2d_11 (Conv2D)          (None, 64, 64, 32)        896       \n",
            "                                                                 \n",
            " max_pooling2d_11 (MaxPoolin  (None, 32, 32, 32)       0         \n",
            " g2D)                                                            \n",
            "                                                                 \n",
            " dropout_15 (Dropout)        (None, 32, 32, 32)        0         \n",
            "                                                                 \n",
            " conv2d_12 (Conv2D)          (None, 32, 32, 64)        18496     \n",
            "                                                                 \n",
            " max_pooling2d_12 (MaxPoolin  (None, 16, 16, 64)       0         \n",
            " g2D)                                                            \n",
            "                                                                 \n",
            " dropout_16 (Dropout)        (None, 16, 16, 64)        0         \n",
            "                                                                 \n",
            " flatten_4 (Flatten)         (None, 16384)             0         \n",
            "                                                                 \n",
            " dense_8 (Dense)             (None, 128)               2097280   \n",
            "                                                                 \n",
            " dropout_17 (Dropout)        (None, 128)               0         \n",
            "                                                                 \n",
            " dense_9 (Dense)             (None, 1)                 129       \n",
            "                                                                 \n",
            "=================================================================\n",
            "Total params: 2,116,801\n",
            "Trainable params: 2,116,801\n",
            "Non-trainable params: 0\n",
            "_________________________________________________________________\n"
          ]
        }
      ]
    },
    {
      "cell_type": "code",
      "source": [
        "from tensorflow.keras.callbacks import EarlyStopping\n",
        "earlystopping = EarlyStopping(monitor='val_loss', patience=10, verbose=1)\n",
        "\n",
        "result = model.fit(X_train, y_train, epochs=30, validation_split=0.2, callbacks=[earlystopping])\n",
        "\n",
        "\n",
        "## C-P-C-P-C-P-F-D-D\n",
        "## lr 0.0001 => loss: 0.0102 - accuracy: 0.9969 - val_loss: 0.0237 - val_accuracy: 0.9930 과적합 \n",
        "## lr 0.00001 => loss: 0.0317 - accuracy: 0.9905 - val_loss: 0.0390 - val_accuracy: 0.9944 \n",
        "\n",
        "## C-P-C-P-F-D-D \n",
        "## lr 0.0001 => loss: 0.0146 - accuracy: 0.9956 - val_loss: 0.0103 - val_accuracy: 0.9966\n",
        "## lr 0.00001 => loss: 0.0482 - accuracy: 0.9854 - val_loss: 0.0130 - val_accuracy: 0.9986"
      ],
      "metadata": {
        "colab": {
          "base_uri": "https://localhost:8080/"
        },
        "id": "un9w7IIZSiCB",
        "outputId": "74a1a327-002c-496c-a255-d25380b8be58"
      },
      "execution_count": null,
      "outputs": [
        {
          "output_type": "stream",
          "name": "stdout",
          "text": [
            "Epoch 1/30\n",
            "800/800 [==============================] - 6s 7ms/step - loss: 0.6677 - accuracy: 0.6161 - val_loss: 0.7740 - val_accuracy: 1.5625e-04\n",
            "Epoch 2/30\n",
            "800/800 [==============================] - 5s 7ms/step - loss: 0.6102 - accuracy: 0.6633 - val_loss: 0.2530 - val_accuracy: 0.9998\n",
            "Epoch 3/30\n",
            "800/800 [==============================] - 7s 9ms/step - loss: 0.4183 - accuracy: 0.8233 - val_loss: 0.0665 - val_accuracy: 0.9994\n",
            "Epoch 4/30\n",
            "800/800 [==============================] - 6s 7ms/step - loss: 0.2826 - accuracy: 0.9025 - val_loss: 0.0397 - val_accuracy: 0.9994\n",
            "Epoch 5/30\n",
            "800/800 [==============================] - 5s 7ms/step - loss: 0.2157 - accuracy: 0.9305 - val_loss: 0.0276 - val_accuracy: 0.9994\n",
            "Epoch 6/30\n",
            "800/800 [==============================] - 5s 7ms/step - loss: 0.1738 - accuracy: 0.9448 - val_loss: 0.0203 - val_accuracy: 0.9994\n",
            "Epoch 7/30\n",
            "800/800 [==============================] - 5s 7ms/step - loss: 0.1498 - accuracy: 0.9515 - val_loss: 0.0161 - val_accuracy: 0.9994\n",
            "Epoch 8/30\n",
            "800/800 [==============================] - 5s 7ms/step - loss: 0.1302 - accuracy: 0.9589 - val_loss: 0.0149 - val_accuracy: 0.9992\n",
            "Epoch 9/30\n",
            "800/800 [==============================] - 5s 7ms/step - loss: 0.1161 - accuracy: 0.9634 - val_loss: 0.0125 - val_accuracy: 0.9994\n",
            "Epoch 10/30\n",
            "800/800 [==============================] - 5s 7ms/step - loss: 0.1068 - accuracy: 0.9662 - val_loss: 0.0133 - val_accuracy: 0.9992\n",
            "Epoch 11/30\n",
            "800/800 [==============================] - 5s 7ms/step - loss: 0.0954 - accuracy: 0.9693 - val_loss: 0.0123 - val_accuracy: 0.9992\n",
            "Epoch 12/30\n",
            "800/800 [==============================] - 5s 7ms/step - loss: 0.0858 - accuracy: 0.9729 - val_loss: 0.0118 - val_accuracy: 0.9992\n",
            "Epoch 13/30\n",
            "800/800 [==============================] - 5s 7ms/step - loss: 0.0821 - accuracy: 0.9743 - val_loss: 0.0108 - val_accuracy: 0.9992\n",
            "Epoch 14/30\n",
            "800/800 [==============================] - 5s 7ms/step - loss: 0.0761 - accuracy: 0.9756 - val_loss: 0.0121 - val_accuracy: 0.9992\n",
            "Epoch 15/30\n",
            "800/800 [==============================] - 5s 7ms/step - loss: 0.0725 - accuracy: 0.9782 - val_loss: 0.0123 - val_accuracy: 0.9989\n",
            "Epoch 16/30\n",
            "800/800 [==============================] - 5s 7ms/step - loss: 0.0701 - accuracy: 0.9777 - val_loss: 0.0104 - val_accuracy: 0.9992\n",
            "Epoch 17/30\n",
            "800/800 [==============================] - 5s 7ms/step - loss: 0.0658 - accuracy: 0.9799 - val_loss: 0.0125 - val_accuracy: 0.9989\n",
            "Epoch 18/30\n",
            "800/800 [==============================] - 5s 7ms/step - loss: 0.0634 - accuracy: 0.9804 - val_loss: 0.0115 - val_accuracy: 0.9989\n",
            "Epoch 19/30\n",
            "800/800 [==============================] - 5s 7ms/step - loss: 0.0616 - accuracy: 0.9808 - val_loss: 0.0111 - val_accuracy: 0.9989\n",
            "Epoch 20/30\n",
            "800/800 [==============================] - 5s 7ms/step - loss: 0.0578 - accuracy: 0.9825 - val_loss: 0.0130 - val_accuracy: 0.9987\n",
            "Epoch 21/30\n",
            "800/800 [==============================] - 5s 7ms/step - loss: 0.0563 - accuracy: 0.9826 - val_loss: 0.0122 - val_accuracy: 0.9987\n",
            "Epoch 22/30\n",
            "800/800 [==============================] - 5s 7ms/step - loss: 0.0550 - accuracy: 0.9837 - val_loss: 0.0138 - val_accuracy: 0.9987\n",
            "Epoch 23/30\n",
            "800/800 [==============================] - 6s 7ms/step - loss: 0.0534 - accuracy: 0.9838 - val_loss: 0.0118 - val_accuracy: 0.9987\n",
            "Epoch 24/30\n",
            "800/800 [==============================] - 5s 7ms/step - loss: 0.0515 - accuracy: 0.9845 - val_loss: 0.0133 - val_accuracy: 0.9986\n",
            "Epoch 25/30\n",
            "800/800 [==============================] - 5s 7ms/step - loss: 0.0495 - accuracy: 0.9844 - val_loss: 0.0118 - val_accuracy: 0.9987\n",
            "Epoch 26/30\n",
            "800/800 [==============================] - 5s 7ms/step - loss: 0.0482 - accuracy: 0.9854 - val_loss: 0.0130 - val_accuracy: 0.9986\n",
            "Epoch 26: early stopping\n"
          ]
        }
      ]
    },
    {
      "cell_type": "code",
      "source": [
        "model.evaluate(X_test, y_test)\n",
        "\n",
        "### C-P-C-P-C-P-F-D-D\n",
        "## lr 0.00001 [0.04126840457320213, 0.9888749718666077] 정확성과 과적합이 없음\n",
        "## lr 0.0001 [0.03228703513741493, 0.9911249876022339] 과적합\n",
        "\n",
        "\n",
        "### C-P-C-P-F-D-D\n",
        "## lr 0.00001 [0.13723982870578766, 0.9537500143051147] 정확성이 떨어짐.\n",
        "## lr 0.0001 [0.019934188574552536, 0.9948750138282776] 과적합"
      ],
      "metadata": {
        "colab": {
          "base_uri": "https://localhost:8080/"
        },
        "id": "OsxXZbp-sEMQ",
        "outputId": "a78dac20-c0fe-461e-9182-eaf019f2b1ae"
      },
      "execution_count": null,
      "outputs": [
        {
          "output_type": "stream",
          "name": "stdout",
          "text": [
            "250/250 [==============================] - 1s 4ms/step - loss: 0.1372 - accuracy: 0.9538\n"
          ]
        },
        {
          "output_type": "execute_result",
          "data": {
            "text/plain": [
              "[0.13723982870578766, 0.9537500143051147]"
            ]
          },
          "metadata": {},
          "execution_count": 45
        }
      ]
    },
    {
      "cell_type": "code",
      "source": [
        "### C-P-C-P-C-P-F-D-D\n",
        "## lr 0.0001\n",
        "\n",
        "plt.title(\"LOSS\")\n",
        "plt.xlabel(\"epochs\")\n",
        "plt.ylabel(\"loss\")\n",
        "plt.grid()\n",
        "\n",
        "plt.plot(result.history[\"loss\"], label=\"train_loss\")\n",
        "plt.plot(result.history[\"val_loss\"], label=\"validation_loss\")\n",
        "plt.legend(loc=\"best\")"
      ],
      "metadata": {
        "colab": {
          "base_uri": "https://localhost:8080/",
          "height": 314
        },
        "id": "haNFQgHduG6m",
        "outputId": "02e2b228-7634-44fd-ff29-1aeb0e8409cf"
      },
      "execution_count": null,
      "outputs": [
        {
          "output_type": "execute_result",
          "data": {
            "text/plain": [
              "<matplotlib.legend.Legend at 0x7f9cf6403b80>"
            ]
          },
          "metadata": {},
          "execution_count": 35
        },
        {
          "output_type": "display_data",
          "data": {
            "text/plain": [
              "<Figure size 432x288 with 1 Axes>"
            ],
            "image/png": "[encoded data removed]"
          },
          "metadata": {
            "needs_background": "light"
          }
        }
      ]
    },
    {
      "cell_type": "code",
      "source": [
        "### C-P-C-P-C-P-F-D-D\n",
        "## lr 0.0001\n",
        "\n",
        "plt.title(\"ACCURACY\")\n",
        "plt.xlabel(\"epochs\")\n",
        "plt.ylabel(\"accuracy\")\n",
        "plt.grid()\n",
        "\n",
        "plt.plot(result.history[\"accuracy\"], label=\"train_accuracy\")\n",
        "plt.plot(result.history[\"val_accuracy\"], label=\"validation_accuracy\")\n",
        "plt.legend(loc=\"best\")"
      ],
      "metadata": {
        "colab": {
          "base_uri": "https://localhost:8080/",
          "height": 314
        },
        "id": "wza6n97Lznbj",
        "outputId": "0466d564-3c5a-439a-b809-e6bb1bdc28e2"
      },
      "execution_count": null,
      "outputs": [
        {
          "output_type": "execute_result",
          "data": {
            "text/plain": [
              "<matplotlib.legend.Legend at 0x7f9cf6258c10>"
            ]
          },
          "metadata": {},
          "execution_count": 36
        },
        {
          "output_type": "display_data",
          "data": {
            "text/plain": [
              "<Figure size 432x288 with 1 Axes>"
            ],
            "image/png": "[encoded data removed]"
          },
          "metadata": {
            "needs_background": "light"
          }
        }
      ]
    },
    {
      "cell_type": "code",
      "source": [
        "### C-P-C-P-C-P-F-D-D\n",
        "## lr 0.00001\n",
        "\n",
        "plt.title(\"LOSS\")\n",
        "plt.xlabel(\"epochs\")\n",
        "plt.ylabel(\"loss\")\n",
        "plt.grid()\n",
        "\n",
        "plt.plot(result.history[\"loss\"], label=\"train_loss\")\n",
        "plt.plot(result.history[\"val_loss\"], label=\"validation_loss\")\n",
        "plt.legend(loc=\"best\")"
      ],
      "metadata": {
        "id": "jRxsXUItYbvB",
        "colab": {
          "base_uri": "https://localhost:8080/",
          "height": 314
        },
        "outputId": "33f1df16-f1ec-459a-a084-518cc96226f2"
      },
      "execution_count": null,
      "outputs": [
        {
          "output_type": "execute_result",
          "data": {
            "text/plain": [
              "<matplotlib.legend.Legend at 0x7f9cf6505f70>"
            ]
          },
          "metadata": {},
          "execution_count": 30
        },
        {
          "output_type": "display_data",
          "data": {
            "text/plain": [
              "<Figure size 432x288 with 1 Axes>"
            ],
            "image/png": "[encoded data removed]"
          },
          "metadata": {
            "needs_background": "light"
          }
        }
      ]
    },
    {
      "cell_type": "code",
      "source": [
        "## C-M-C-M-C-M-F-D-D\n",
        "## lr 0.00001\n",
        "\n",
        "plt.title(\"ACCURACY\")\n",
        "plt.xlabel(\"epochs\")\n",
        "plt.ylabel(\"accuracy\")\n",
        "plt.grid()\n",
        "\n",
        "plt.plot(result.history[\"accuracy\"], label=\"train_accuracy\")\n",
        "plt.plot(result.history[\"val_accuracy\"], label=\"validation_accuracy\")\n",
        "plt.legend(loc=\"best\")"
      ],
      "metadata": {
        "id": "mzPJxX9nYbrD",
        "colab": {
          "base_uri": "https://localhost:8080/",
          "height": 314
        },
        "outputId": "f5633d4c-7be2-4397-ca37-07e7f66b97b6"
      },
      "execution_count": null,
      "outputs": [
        {
          "output_type": "execute_result",
          "data": {
            "text/plain": [
              "<matplotlib.legend.Legend at 0x7f9cf64c0820>"
            ]
          },
          "metadata": {},
          "execution_count": 31
        },
        {
          "output_type": "display_data",
          "data": {
            "text/plain": [
              "<Figure size 432x288 with 1 Axes>"
            ],
            "image/png": "[encoded data removed]"
          },
          "metadata": {
            "needs_background": "light"
          }
        }
      ]
    },
    {
      "cell_type": "code",
      "source": [
        "### C-P-C-P-F-D-D\n",
        "## lr 0.0001\n",
        "\n",
        "plt.title(\"LOSS\")\n",
        "plt.xlabel(\"epochs\")\n",
        "plt.ylabel(\"loss\")\n",
        "plt.grid()\n",
        "\n",
        "plt.plot(result.history[\"loss\"], label=\"train_loss\")\n",
        "plt.plot(result.history[\"val_loss\"], label=\"validation_loss\")\n",
        "plt.legend(loc=\"best\")"
      ],
      "metadata": {
        "id": "gPV551NqYbh9",
        "colab": {
          "base_uri": "https://localhost:8080/",
          "height": 314
        },
        "outputId": "e9e2e362-fcae-419c-de2a-28dd28214ea9"
      },
      "execution_count": null,
      "outputs": [
        {
          "output_type": "execute_result",
          "data": {
            "text/plain": [
              "<matplotlib.legend.Legend at 0x7f9cde7d1d00>"
            ]
          },
          "metadata": {},
          "execution_count": 40
        },
        {
          "output_type": "display_data",
          "data": {
            "text/plain": [
              "<Figure size 432x288 with 1 Axes>"
            ],
            "image/png": "[encoded data removed]"
          },
          "metadata": {
            "needs_background": "light"
          }
        }
      ]
    },
    {
      "cell_type": "code",
      "source": [
        "### C-P-C-P-F-D-D\n",
        "## lr 0.0001\n",
        "\n",
        "plt.title(\"ACCURACY\")\n",
        "plt.xlabel(\"epochs\")\n",
        "plt.ylabel(\"accuracy\")\n",
        "plt.grid()\n",
        "\n",
        "plt.plot(result.history[\"accuracy\"], label=\"train_accuracy\")\n",
        "plt.plot(result.history[\"val_accuracy\"], label=\"validation_accuracy\")\n",
        "plt.legend(loc=\"best\")"
      ],
      "metadata": {
        "id": "Aazy86MFSh7H",
        "colab": {
          "base_uri": "https://localhost:8080/",
          "height": 314
        },
        "outputId": "57189f51-a3ae-4f7c-f4a9-0cd93ba1b03f"
      },
      "execution_count": null,
      "outputs": [
        {
          "output_type": "execute_result",
          "data": {
            "text/plain": [
              "<matplotlib.legend.Legend at 0x7f9cde7f3e50>"
            ]
          },
          "metadata": {},
          "execution_count": 41
        },
        {
          "output_type": "display_data",
          "data": {
            "text/plain": [
              "<Figure size 432x288 with 1 Axes>"
            ],
            "image/png": "[encoded data removed]"
          },
          "metadata": {
            "needs_background": "light"
          }
        }
      ]
    },
    {
      "cell_type": "code",
      "source": [
        "### C-P-C-P-F-D-D\n",
        "## lr 0.0001\n",
        "\n",
        "plt.title(\"LOSS\")\n",
        "plt.xlabel(\"epochs\")\n",
        "plt.ylabel(\"loss\")\n",
        "plt.grid()\n",
        "\n",
        "plt.plot(result.history[\"loss\"], label=\"train_loss\")\n",
        "plt.plot(result.history[\"val_loss\"], label=\"validation_loss\")\n",
        "plt.legend(loc=\"best\")"
      ],
      "metadata": {
        "id": "YO-SAZEnGrSi",
        "colab": {
          "base_uri": "https://localhost:8080/",
          "height": 314
        },
        "outputId": "2a04a504-2149-44ce-8a5a-01856b11fb65"
      },
      "execution_count": null,
      "outputs": [
        {
          "output_type": "execute_result",
          "data": {
            "text/plain": [
              "<matplotlib.legend.Legend at 0x7f9cde5abee0>"
            ]
          },
          "metadata": {},
          "execution_count": 46
        },
        {
          "output_type": "display_data",
          "data": {
            "text/plain": [
              "<Figure size 432x288 with 1 Axes>"
            ],
            "image/png": "[encoded data removed]"
          },
          "metadata": {
            "needs_background": "light"
          }
        }
      ]
    },
    {
      "cell_type": "code",
      "source": [
        "### C-P-C-P-F-D-D\n",
        "## lr 0.0001\n",
        "\n",
        "plt.title(\"ACCURACY\")\n",
        "plt.xlabel(\"epochs\")\n",
        "plt.ylabel(\"accuracy\")\n",
        "plt.grid()\n",
        "\n",
        "plt.plot(result.history[\"accuracy\"], label=\"train_accuracy\")\n",
        "plt.plot(result.history[\"val_accuracy\"], label=\"validation_accuracy\")\n",
        "plt.legend(loc=\"best\")"
      ],
      "metadata": {
        "colab": {
          "base_uri": "https://localhost:8080/",
          "height": 314
        },
        "id": "JA30ACCj4pLN",
        "outputId": "2da1dc23-6f4b-423b-9059-1a0e096b273a"
      },
      "execution_count": null,
      "outputs": [
        {
          "output_type": "execute_result",
          "data": {
            "text/plain": [
              "<matplotlib.legend.Legend at 0x7f9cdffd4f10>"
            ]
          },
          "metadata": {},
          "execution_count": 47
        },
        {
          "output_type": "display_data",
          "data": {
            "text/plain": [
              "<Figure size 432x288 with 1 Axes>"
            ],
            "image/png": "[encoded data removed]"
          },
          "metadata": {
            "needs_background": "light"
          }
        }
      ]
    },
    {
      "cell_type": "markdown",
      "source": [
        "최종적으로 모델의 정확성이 가장 높았던 \"C-P-C-P-C-P-F-D-D\"모델로 채택하고, 과적합이 최소화 되었던 lr = 0.00001로 설정하여 99%의 모델을 만들었다. "
      ],
      "metadata": {
        "id": "vpH4R0OJ6ocz"
      }
    },
    {
      "cell_type": "code",
      "source": [
        "D"
      ],
      "metadata": {
        "id": "NMdBZV6z5Zxj"
      },
      "execution_count": null,
      "outputs": []
    }
  ]
}